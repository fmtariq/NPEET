{
 "cells": [
  {
   "cell_type": "code",
   "execution_count": 2,
   "id": "2bd3c83f",
   "metadata": {},
   "outputs": [],
   "source": [
    "import numpy as np\n",
    "\n",
    "accel = np.array([[2.348766048321238e-06],\n",
    " [1.4273766115735498e-05],\n",
    " [4.840171028419604e-06],\n",
    " [-1.4080292487506085e-10],\n",
    " [-9.561638343313916e-06],\n",
    " [-7.11951849030612e-06],\n",
    " [-7.184053454345474e-06],\n",
    " [-2.368666933705299e-06],\n",
    " [1.6649756213737987e-05],\n",
    " [9.58886131829928e-06],\n",
    " [-5.2096460478878726e-09],\n",
    " [-7.181847903048322e-06],\n",
    " [-7.130359995777269e-06],\n",
    " [-7.164904309853171e-06],\n",
    " [-4.736208039091139e-06],\n",
    " [1.6652057368560236e-05],\n",
    " [9.511839431652902e-06],\n",
    " [-3.6236977862813546e-08],\n",
    " [-9.559059974684203e-06],\n",
    " [-7.177158574123155e-06],\n",
    " [-7.1859384886963085e-06],\n",
    " [2.360212296714792e-06],\n",
    " [1.4275213939818343e-05],\n",
    " [9.515775531987458e-06],\n",
    " [-1.760734669176145e-08],\n",
    " [-4.798972423891712e-06],\n",
    " [-7.171812588246951e-06],\n",
    " [-9.562261182871623e-06],\n",
    " [-7.178294585408196e-06],\n",
    " [7.1069593277073295e-06],\n",
    " [1.7055257872655716e-05],\n",
    " [9.589893199546395e-06],\n",
    " [-4.8172170519222846e-06],\n",
    " [-7.1144490609853506e-06],\n",
    " [-1.673837094262609e-05],\n",
    " [-1.187562542526166e-05],\n",
    " [-7.161384063536502e-06],\n",
    " [4.720388897538896e-06],\n",
    " [2.3887975366676528e-05],\n",
    " [3.816671684031547e-05],\n",
    " [3.094896400490654e-05],\n",
    " [2.4138188736699817e-06],\n",
    " [-3.1007914467195974e-05],\n",
    " [-5.4796903201648206e-05],\n",
    " [-6.442650215987555e-05],\n",
    " [-3.812611811593314e-05],\n",
    " [1.4348768768712716e-05],\n",
    " [7.148209700158503e-05],\n",
    " [0.00010965730762535486],\n",
    " [0.00010255698599692664]])"
   ]
  },
  {
   "cell_type": "code",
   "execution_count": 3,
   "id": "9ffdc5db",
   "metadata": {},
   "outputs": [
    {
     "name": "stdout",
     "output_type": "stream",
     "text": [
      "entropy -550838.2251846517\n"
     ]
    }
   ],
   "source": [
    "hist, bin_edges = np.histogram(np.array(accel).squeeze(), bins=10, density=True)\n",
    "# print('hist:',hist)\n",
    "# print('bin_edges:',bin_edges)\n",
    "prob = hist[hist > 0]\n",
    "# print('prob:',prob)\n",
    "entropy_histogram = -(prob*np.log(np.abs(prob))).sum()\n",
    "print('entropy',entropy_histogram)"
   ]
  },
  {
   "cell_type": "code",
   "execution_count": 4,
   "id": "d03fa630",
   "metadata": {},
   "outputs": [
    {
     "data": {
      "text/plain": [
       "-9.306326048277032"
      ]
     },
     "execution_count": 4,
     "metadata": {},
     "output_type": "execute_result"
    }
   ],
   "source": [
    "from scipy.stats import differential_entropy\n",
    "\n",
    "differential_entropy(np.array(accel).squeeze(), method='auto')"
   ]
  }
 ],
 "metadata": {
  "kernelspec": {
   "display_name": "Python 3 (ipykernel)",
   "language": "python",
   "name": "python3"
  },
  "language_info": {
   "codemirror_mode": {
    "name": "ipython",
    "version": 3
   },
   "file_extension": ".py",
   "mimetype": "text/x-python",
   "name": "python",
   "nbconvert_exporter": "python",
   "pygments_lexer": "ipython3",
   "version": "3.8.10"
  }
 },
 "nbformat": 4,
 "nbformat_minor": 5
}
